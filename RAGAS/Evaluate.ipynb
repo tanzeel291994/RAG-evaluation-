{
 "cells": [
  {
   "cell_type": "code",
   "execution_count": 1,
   "metadata": {},
   "outputs": [],
   "source": [
    "import json\n",
    "import pandas as pd\n",
    "import dspy\n",
    "import os\n",
    "\n",
    "json_file_path = '../results/pubmed_results.json'\n",
    "\n",
    "with open(json_file_path, 'r', encoding='utf-8') as f:\n",
    "    loaded_data = json.load(f)"
   ]
  },
  {
   "cell_type": "code",
   "execution_count": 3,
   "metadata": {},
   "outputs": [],
   "source": [
    "from datasets import Dataset \n",
    "dataset = Dataset.from_dict(loaded_data)"
   ]
  },
  {
   "cell_type": "code",
   "execution_count": 7,
   "metadata": {},
   "outputs": [
    {
     "data": {
      "application/vnd.jupyter.widget-view+json": {
       "model_id": "323abb3498ee4d38a9148e3238c9b781",
       "version_major": 2,
       "version_minor": 0
      },
      "text/plain": [
       "Evaluating:   0%|          | 0/50 [00:00<?, ?it/s]"
      ]
     },
     "metadata": {},
     "output_type": "display_data"
    },
    {
     "data": {
      "application/vnd.jupyter.widget-view+json": {
       "model_id": "56232b61a0a14cecba33630c67883989",
       "version_major": 2,
       "version_minor": 0
      },
      "text/plain": [
       "Evaluating:   0%|          | 0/50 [00:00<?, ?it/s]"
      ]
     },
     "metadata": {},
     "output_type": "display_data"
    },
    {
     "data": {
      "application/vnd.jupyter.widget-view+json": {
       "model_id": "8db85c24ca7e485e85399c6439ccc404",
       "version_major": 2,
       "version_minor": 0
      },
      "text/plain": [
       "Evaluating:   0%|          | 0/50 [00:00<?, ?it/s]"
      ]
     },
     "metadata": {},
     "output_type": "display_data"
    },
    {
     "data": {
      "application/vnd.jupyter.widget-view+json": {
       "model_id": "24ae330781fc432185c45fd6afabc5e8",
       "version_major": 2,
       "version_minor": 0
      },
      "text/plain": [
       "Evaluating:   0%|          | 0/50 [00:00<?, ?it/s]"
      ]
     },
     "metadata": {},
     "output_type": "display_data"
    }
   ],
   "source": [
    "import os\n",
    "from ragas import evaluate\n",
    "from ragas.metrics import faithfulness, answer_correctness,answer_relevancy,answer_similarity,context_precision,context_recall,context_entity_recall,summarization_score\n",
    "import time \n",
    "os.environ[\"OPENAI_API_KEY\"] = os.environ[\"OPENAI_API_KEY\"]\n",
    "from langchain_openai.chat_models import ChatOpenAI\n",
    "from ragas.embeddings import HuggingfaceEmbeddings\n",
    "\n",
    "gpt4 = ChatOpenAI(model=\"GPT-4o-mini-2024-07-18\")\n",
    "\n",
    "\n",
    "hf_embeddings = HuggingfaceEmbeddings(model_name=\"BAAI/bge-small-en\")\n",
    "\n",
    "#summarizartion score needs the summary field\n",
    "#metrics =[answer_correctness,answer_relevancy,answer_similarity,faithfulness,context_precision,context_recall,context_entity_recall,noise_sensitivity_relevant,\n",
    "#           noise_sensitivity_irrelevant,reference_free_rubrics_score, labelled_rubrics_score]\n",
    "batch_size = 50\n",
    "num = 1\n",
    "all_results = []\n",
    "for i in range(0, 200, batch_size):\n",
    "    score = evaluate(dataset.select(range(i,min(i+batch_size,200))),metrics=[faithfulness],embeddings=hf_embeddings) \n",
    "    result_df = score.to_pandas()\n",
    "    all_results.append(result_df)\n",
    "    result_df.to_parquet(f'../results/metric_pubmed_{num}.parquet')\n",
    "    time.sleep(1000)\n",
    "    num = num + 1"
   ]
  },
  {
   "cell_type": "code",
   "execution_count": 21,
   "metadata": {},
   "outputs": [],
   "source": [
    "# Concatenate all DataFrames in the list\n",
    "df = pd.concat(all_results, ignore_index=True)"
   ]
  },
  {
   "cell_type": "code",
   "execution_count": 26,
   "metadata": {},
   "outputs": [],
   "source": [
    "df1= pd.DataFrame.from_dict(loaded_data)"
   ]
  },
  {
   "cell_type": "code",
   "execution_count": 29,
   "metadata": {},
   "outputs": [],
   "source": [
    "df = df.rename(columns={'user_input': 'question'})\n",
    "\n",
    "merged_df = pd.merge(df, df1[['question', 'id']], on='question', how='left')"
   ]
  },
  {
   "cell_type": "code",
   "execution_count": 30,
   "metadata": {},
   "outputs": [
    {
     "data": {
      "text/html": [
       "<div>\n",
       "<style scoped>\n",
       "    .dataframe tbody tr th:only-of-type {\n",
       "        vertical-align: middle;\n",
       "    }\n",
       "\n",
       "    .dataframe tbody tr th {\n",
       "        vertical-align: top;\n",
       "    }\n",
       "\n",
       "    .dataframe thead th {\n",
       "        text-align: right;\n",
       "    }\n",
       "</style>\n",
       "<table border=\"1\" class=\"dataframe\">\n",
       "  <thead>\n",
       "    <tr style=\"text-align: right;\">\n",
       "      <th></th>\n",
       "      <th>question</th>\n",
       "      <th>retrieved_contexts</th>\n",
       "      <th>response</th>\n",
       "      <th>reference</th>\n",
       "      <th>faithfulness</th>\n",
       "      <th>id</th>\n",
       "    </tr>\n",
       "  </thead>\n",
       "  <tbody>\n",
       "    <tr>\n",
       "      <th>0</th>\n",
       "      <td>Is ganglionated plexi ablation during Maze IV ...</td>\n",
       "      <td>[We investigated the role of surgical ablation...</td>\n",
       "      <td>The absence of ganglionated plexi ablation was...</td>\n",
       "      <td>No. GP ablation did not prove to be beneficial...</td>\n",
       "      <td>1.000000</td>\n",
       "      <td>25985014</td>\n",
       "    </tr>\n",
       "    <tr>\n",
       "      <th>1</th>\n",
       "      <td>Production of chemokines by perivascular adipo...</td>\n",
       "      <td>[Obesity is associated with an increased risk ...</td>\n",
       "      <td>Yes, perivascular adipose tissue (pWAT) may pl...</td>\n",
       "      <td>Yes. Human pWAT has chemotactic properties thr...</td>\n",
       "      <td>1.000000</td>\n",
       "      <td>16195477</td>\n",
       "    </tr>\n",
       "    <tr>\n",
       "      <th>2</th>\n",
       "      <td>Is a 9-month treatment sufficient in tuberculo...</td>\n",
       "      <td>[Tuberculosis has increased in parallel with t...</td>\n",
       "      <td>Yes, a 9-month treatment was found to be suffi...</td>\n",
       "      <td>Yes. Tuberculous enterocolitis can be managed ...</td>\n",
       "      <td>0.666667</td>\n",
       "      <td>12848629</td>\n",
       "    </tr>\n",
       "    <tr>\n",
       "      <th>3</th>\n",
       "      <td>A patient with myelomeningocele: is untetherin...</td>\n",
       "      <td>[Tethering of the spinal cord is thought to in...</td>\n",
       "      <td>The study found that patients with myelomening...</td>\n",
       "      <td>No. The study results suggested that spinal co...</td>\n",
       "      <td>0.800000</td>\n",
       "      <td>20594006</td>\n",
       "    </tr>\n",
       "    <tr>\n",
       "      <th>4</th>\n",
       "      <td>Do some U.S. states have higher/lower injury m...</td>\n",
       "      <td>[This article examines the hypothesis that the...</td>\n",
       "      <td>Yes, some U.S. states have higher/lower injury...</td>\n",
       "      <td>Yes. Group 1 states are likely to exhibit abov...</td>\n",
       "      <td>0.750000</td>\n",
       "      <td>15995461</td>\n",
       "    </tr>\n",
       "  </tbody>\n",
       "</table>\n",
       "</div>"
      ],
      "text/plain": [
       "                                            question  \\\n",
       "0  Is ganglionated plexi ablation during Maze IV ...   \n",
       "1  Production of chemokines by perivascular adipo...   \n",
       "2  Is a 9-month treatment sufficient in tuberculo...   \n",
       "3  A patient with myelomeningocele: is untetherin...   \n",
       "4  Do some U.S. states have higher/lower injury m...   \n",
       "\n",
       "                                  retrieved_contexts  \\\n",
       "0  [We investigated the role of surgical ablation...   \n",
       "1  [Obesity is associated with an increased risk ...   \n",
       "2  [Tuberculosis has increased in parallel with t...   \n",
       "3  [Tethering of the spinal cord is thought to in...   \n",
       "4  [This article examines the hypothesis that the...   \n",
       "\n",
       "                                            response  \\\n",
       "0  The absence of ganglionated plexi ablation was...   \n",
       "1  Yes, perivascular adipose tissue (pWAT) may pl...   \n",
       "2  Yes, a 9-month treatment was found to be suffi...   \n",
       "3  The study found that patients with myelomening...   \n",
       "4  Yes, some U.S. states have higher/lower injury...   \n",
       "\n",
       "                                           reference  faithfulness        id  \n",
       "0  No. GP ablation did not prove to be beneficial...      1.000000  25985014  \n",
       "1  Yes. Human pWAT has chemotactic properties thr...      1.000000  16195477  \n",
       "2  Yes. Tuberculous enterocolitis can be managed ...      0.666667  12848629  \n",
       "3  No. The study results suggested that spinal co...      0.800000  20594006  \n",
       "4  Yes. Group 1 states are likely to exhibit abov...      0.750000  15995461  "
      ]
     },
     "execution_count": 30,
     "metadata": {},
     "output_type": "execute_result"
    }
   ],
   "source": [
    "merged_df.head()"
   ]
  },
  {
   "cell_type": "code",
   "execution_count": 31,
   "metadata": {},
   "outputs": [],
   "source": [
    "merged_df.to_json('../results/ragas_results.json', orient='records', force_ascii=False, indent=4)"
   ]
  },
  {
   "cell_type": "code",
   "execution_count": null,
   "metadata": {},
   "outputs": [],
   "source": []
  }
 ],
 "metadata": {
  "kernelspec": {
   "display_name": "myvenv",
   "language": "python",
   "name": "python3"
  },
  "language_info": {
   "codemirror_mode": {
    "name": "ipython",
    "version": 3
   },
   "file_extension": ".py",
   "mimetype": "text/x-python",
   "name": "python",
   "nbconvert_exporter": "python",
   "pygments_lexer": "ipython3",
   "version": "3.12.5"
  }
 },
 "nbformat": 4,
 "nbformat_minor": 2
}
